{
 "cells": [
  {
   "cell_type": "code",
   "execution_count": 7,
   "id": "78a566ad",
   "metadata": {},
   "outputs": [],
   "source": [
    "import copy, math\n",
    "import numpy as np\n",
    "import matplotlib.pyplot as plt\n",
    "plt.style.use('./deeplearning.mplstyle')\n",
    "np.set_printoptions(precision=2)  # reduced display precision on numpy arrays"
   ]
  },
  {
   "cell_type": "code",
   "execution_count": 8,
   "id": "7439edb9",
   "metadata": {},
   "outputs": [],
   "source": [
    "x_train = np.array([[2104, 5, 1, 45], [1416, 3, 2, 40], [852, 2, 1, 35]])\n",
    "y_train = np.array([460, 232, 178])"
   ]
  },
  {
   "cell_type": "code",
   "execution_count": 13,
   "id": "a4a1e2bb",
   "metadata": {},
   "outputs": [
    {
     "name": "stdout",
     "output_type": "stream",
     "text": [
      "X shape:(3, 4), X type:<class 'numpy.ndarray'>\n",
      "[[2104    5    1   45]\n",
      " [1416    3    2   40]\n",
      " [ 852    2    1   35]]\n",
      "Y shape:(3,), Y type:<class 'numpy.ndarray'>\n"
     ]
    }
   ],
   "source": [
    "print(f'X shape:{x_train.shape}, X type:{type(x_train)}')\n",
    "print(x_train)\n",
    "print(f'Y shape:{y_train.shape}, Y type:{type(y_train)}')"
   ]
  },
  {
   "cell_type": "code",
   "execution_count": 42,
   "id": "834e3363",
   "metadata": {},
   "outputs": [
    {
     "name": "stdout",
     "output_type": "stream",
     "text": [
      "w_init shape: (4,), b_init type: <class 'int'>\n"
     ]
    }
   ],
   "source": [
    "b_init = 920\n",
    "w_init = np.array([4200, 12, 2, 25])\n",
    "print(f'w_init shape: {w_init.shape}, b_init type: {type(b_init)}')"
   ]
  },
  {
   "cell_type": "code",
   "execution_count": 43,
   "id": "bdd24e87",
   "metadata": {},
   "outputs": [],
   "source": [
    "def predict(x, w, b):\n",
    "    p = np.dot(x, w) + b\n",
    "    return p"
   ]
  },
  {
   "cell_type": "code",
   "execution_count": 44,
   "id": "64d790af",
   "metadata": {},
   "outputs": [
    {
     "name": "stdout",
     "output_type": "stream",
     "text": [
      "x_vec shape: (4,), x_vec value: [2104    5    1   45]\n",
      "prediction: 8838907\n"
     ]
    }
   ],
   "source": [
    "x_vec = x_train[0, :]\n",
    "print(f'x_vec shape: {x_vec.shape}, x_vec value: {x_vec}')\n",
    "\n",
    "f_wb = predict(x_vec, w_init, b_init)\n",
    "print(f'prediction: {f_wb}')"
   ]
  }
 ],
 "metadata": {
  "kernelspec": {
   "display_name": "Python 3 (ipykernel)",
   "language": "python",
   "name": "python3"
  },
  "language_info": {
   "codemirror_mode": {
    "name": "ipython",
    "version": 3
   },
   "file_extension": ".py",
   "mimetype": "text/x-python",
   "name": "python",
   "nbconvert_exporter": "python",
   "pygments_lexer": "ipython3",
   "version": "3.9.13"
  }
 },
 "nbformat": 4,
 "nbformat_minor": 5
}
